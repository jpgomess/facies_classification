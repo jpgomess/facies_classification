{
 "cells": [
  {
   "cell_type": "code",
   "execution_count": null,
   "metadata": {},
   "outputs": [],
   "source": [
    "from sklearn.model_selection import train_test_split\n",
    "from sklearn.linear_model import LogisticRegression\n",
    "from sklearn.metrics import classification_report\n",
    "from sklearn.metrics import plot_confusion_matrix\n",
    "from sklearn.metrics import accuracy_score\n",
    "from segysak.segy import segy_loader\n",
    "import matplotlib.pyplot as plt\n",
    "import pandas as pd\n",
    "import numpy as np\n",
    "import warnings\n",
    "import pickle\n",
    "import segyio\n",
    "\n",
    "warnings.filterwarnings(action='ignore')"
   ]
  },
  {
   "cell_type": "code",
   "execution_count": null,
   "metadata": {},
   "outputs": [],
   "source": [
    "def norm_data(X, x_min, x_max):\n",
    "    return (X - x_min) / (x_max - x_min)\n",
    "\n",
    "def obj_to_pixel_df(cube_str, cube_sgy, obj, width, height, index_label, derivative='default'):\n",
    "\n",
    "    dataset = pd.DataFrame()\n",
    "\n",
    "    if width % 2 > 0:\n",
    "        width_coef = 1\n",
    "    else:\n",
    "        width_coef = 0\n",
    "    \n",
    "    if height % 2 > 0:\n",
    "        height_coef = 1\n",
    "    else:\n",
    "        height_coef = 0\n",
    "\n",
    "    half_width = int(round(width / 2 - 0.5, 0))\n",
    "    half_height = int(round(height / 2 - 0.5, 0))\n",
    "    \n",
    "    count = 0\n",
    "    for click in obj:\n",
    "        iline_number = click['inline']\n",
    "        xline_number = click['crossline']\n",
    "\n",
    "        x = click['x']\n",
    "        y = click['y']\n",
    "\n",
    "        if iline_number != None:\n",
    "            if cube_str == 'similarity':\n",
    "                img = cube_sgy.isel(iline=iline_number).data.T.to_numpy()[x - half_width : x + half_width + width_coef, y - half_height : y + half_height + height_coef]\n",
    "            else:\n",
    "                img = cube_sgy.iline[iline_number][x - half_width : x + half_width + width_coef, y - half_height : y + half_height + height_coef].T\n",
    "        else:\n",
    "            if cube_str == 'similarity':\n",
    "                img = cube_sgy.isel(xline=xline_number).data.T.to_numpy()[x - half_width : x + half_width + width_coef, y - half_height : y + half_height + height_coef]\n",
    "            else:\n",
    "                img = cube_sgy.xline[xline_number][x - half_width : x + half_width + width_coef, y - half_height : y + half_height + height_coef].T\n",
    "\n",
    "        if derivative == 'horizontal':\n",
    "            img = np.diff(img) / 25\n",
    "        elif derivative == 'vertical':\n",
    "            img = np.diff(img.T).T / 0.004\n",
    "\n",
    "        pixels = img.reshape(-1,1)\n",
    "\n",
    "        if derivative == 'default':\n",
    "            if len(pixels) == int(width * height):\n",
    "                pixels = norm_data(pixels, np.min(pixels), np.max(pixels))\n",
    "                dataset[f'{index_label}{count}'] = [pixel[0] for pixel in pixels.tolist()]\n",
    "        else:\n",
    "            if len(pixels) == int(width * height - width):\n",
    "                pixels = norm_data(pixels, np.min(pixels), np.max(pixels))\n",
    "                dataset[f'{index_label}{count}'] = [pixel[0] for pixel in pixels.tolist()]\n",
    "\n",
    "        count += 1\n",
    "\n",
    "    dataset = dataset.T\n",
    "    #dataset.index = [f'{index_label}{i}' for i in range(len(dataset))]\n",
    "\n",
    "    if index_label == 'Fault':\n",
    "        dataset['y'] = [1 for i in range(len(dataset))]\n",
    "\n",
    "    elif index_label == 'Non_Fault':\n",
    "        dataset['y'] = [0 for i in range(len(dataset))]\n",
    "\n",
    "    return dataset"
   ]
  },
  {
   "cell_type": "code",
   "execution_count": null,
   "metadata": {},
   "outputs": [],
   "source": [
    "amplitude_cube_path = r'C:\\Users\\jpgom\\Documents\\Jão\\VS_Code\\IC\\Seismic_data_w_null.sgy'\n",
    "#similarity_cube_path = r'C:\\Users\\jpgom\\Documents\\Jão\\VS_Code\\IC\\F3_Similaridade_Full (455).sgy'\n",
    "\n",
    "#default_cube_path = '/home/gaia/jpedro/Seismic_data_w_null.sgy'\n",
    "#similarity_cube_path = '/home/gaia/jpedro/F3_Similaridade_Full (455).sgy'\n",
    "\n",
    "amplitude_cube = segyio.open(amplitude_cube_path)\n",
    "#similarity_cube = segy_loader(similarity_cube_path, iline=189, xline=193, cdpx=181, cdpy=185)"
   ]
  },
  {
   "cell_type": "code",
   "execution_count": null,
   "metadata": {},
   "outputs": [],
   "source": [
    "file = open(r'C:\\Users\\jpgom\\Documents\\Jão\\git\\facies_selector\\Fault.obj', 'rb')\n",
    "#file = open('/home/gaia/jpedro/git/facies_selector/Fault.obj', 'rb')\n",
    "fault_obj = pickle.load(file)\n",
    "file.close()\n",
    "\n",
    "file = open(r'C:\\Users\\jpgom\\Documents\\Jão\\git\\facies_selector\\Non_Fault.obj', 'rb')\n",
    "#file = open('/home/gaia/jpedro/git/facies_selector/Fault.obj', 'rb')\n",
    "non_fault_obj = pickle.load(file)\n",
    "file.close()"
   ]
  },
  {
   "cell_type": "code",
   "execution_count": null,
   "metadata": {},
   "outputs": [],
   "source": [
    "width = 13\n",
    "height = 13\n",
    "\n",
    "X_fault_amplitude = obj_to_pixel_df('default', amplitude_cube, fault_obj, width, height, 'Fault')\n",
    "X_non_fault_amplitude = obj_to_pixel_df('default', amplitude_cube, non_fault_obj, width, height, 'Non_Fault')\n",
    "\n",
    "#X_fault_similarity = obj_to_pixel_df('similarity', similarity_cube, fault_obj, width, height, 'Fault')\n",
    "#X_non_fault_similarity = obj_to_pixel_df('similarity', similarity_cube, non_fault_obj, width, height, 'Non_Fault')"
   ]
  },
  {
   "cell_type": "code",
   "execution_count": null,
   "metadata": {},
   "outputs": [],
   "source": [
    "dataset_amplitude = pd.concat([X_fault_amplitude, X_non_fault_amplitude])\n",
    "#dataset_similarity = pd.concat([X_fault_similarity, X_non_fault_similarity]).iloc[:,:-1]\n",
    "\n",
    "dataset_amplitude.rename(columns={i : f'Pixel{i}_D' for i in range(len(dataset_amplitude.columns) - 1)}, inplace=True)\n",
    "#dataset_similarity.rename(columns={i : f'Pixel{i}_S' for i in range(len(dataset_similarity.columns))}, inplace=True)\n",
    "\n",
    "#dataset = pd.concat([dataset_amplitude, dataset_similarity], axis=1)\n",
    "\n",
    "#dataset = dataset.dropna()\n",
    "dataset = dataset_amplitude.dropna()\n",
    "\n",
    "dataset = dataset.sample(frac=1)\n",
    "\n",
    "X = dataset[dataset.columns.drop('y')]\n",
    "y = dataset['y']"
   ]
  },
  {
   "cell_type": "code",
   "execution_count": null,
   "metadata": {},
   "outputs": [],
   "source": [
    "X.shape"
   ]
  },
  {
   "cell_type": "code",
   "execution_count": null,
   "metadata": {},
   "outputs": [],
   "source": [
    "# index = 45\n",
    "# img = np.array(X.iloc[index, :]).reshape(width, height)\n",
    "# plt.imshow(img, cmap='gray_r', aspect='auto')\n",
    "# plt.title(X.index[index])"
   ]
  },
  {
   "cell_type": "code",
   "execution_count": null,
   "metadata": {},
   "outputs": [],
   "source": [
    "X_train, X_test, y_train, y_test = train_test_split(X, y, random_state=9, train_size=0.70)"
   ]
  },
  {
   "cell_type": "code",
   "execution_count": null,
   "metadata": {},
   "outputs": [],
   "source": [
    "clf = LogisticRegression(penalty='none', \n",
    "                          solver='saga',\n",
    "                          n_jobs=-1,\n",
    "                          multi_class='multinomial').fit(X_train, y_train)\n",
    "\n",
    "clf.coef_.shape\n",
    "\n",
    "y_pred_test = clf.predict(X_test)\n",
    "acc_test = accuracy_score(y_test, y_pred_test)\n",
    "\n",
    "y_pred_train = clf.predict(X_train)\n",
    "acc_train = accuracy_score(y_train, y_pred_train)\n",
    "\n",
    "print(f'Model Accuracy (Train): {round(acc_train * 100, 2)}% | Model Accuracy (Test): {round(acc_test * 100, 2)}%')"
   ]
  },
  {
   "cell_type": "code",
   "execution_count": null,
   "metadata": {},
   "outputs": [],
   "source": [
    "plot_confusion_matrix(clf, X_test, y_test, display_labels=['Non-Fault', 'Fault'])"
   ]
  },
  {
   "cell_type": "code",
   "execution_count": null,
   "metadata": {},
   "outputs": [],
   "source": [
    "#print(classification_report(y_test,y_pred_test))"
   ]
  },
  {
   "cell_type": "code",
   "execution_count": null,
   "metadata": {},
   "outputs": [],
   "source": [
    "from sklearn.neighbors import KNeighborsClassifier"
   ]
  },
  {
   "cell_type": "code",
   "execution_count": null,
   "metadata": {},
   "outputs": [],
   "source": [
    "knn = KNeighborsClassifier(n_neighbors=5)\n",
    "knn.fit(X_train,y_train)\n",
    "\n",
    "y_pred_test = knn.predict(X_test)\n",
    "acc_test = accuracy_score(y_test, y_pred_test)\n",
    "\n",
    "y_pred_train = knn.predict(X_train)\n",
    "acc_train = accuracy_score(y_train, y_pred_train)\n",
    "\n",
    "print(f'Model Accuracy (Train): {round(acc_train * 100, 2)}% | Model Accuracy (Test): {round(acc_test * 100, 2)}%')"
   ]
  },
  {
   "cell_type": "code",
   "execution_count": null,
   "metadata": {},
   "outputs": [],
   "source": [
    "plot_confusion_matrix(knn, X_test, y_test, display_labels=['Non-Fault', 'Fault'])"
   ]
  },
  {
   "cell_type": "code",
   "execution_count": null,
   "metadata": {},
   "outputs": [],
   "source": [
    "#print(classification_report(y_test,y_pred_test))"
   ]
  },
  {
   "cell_type": "code",
   "execution_count": null,
   "metadata": {},
   "outputs": [],
   "source": [
    "acc_k_train = []\n",
    "acc_k_test = []\n",
    "\n",
    "for k in range(3,51,2):\n",
    "   knn = KNeighborsClassifier(n_neighbors=k)\n",
    "   knn.fit(X_train,y_train)\n",
    "\n",
    "   y_pred = knn.predict(X_test)\n",
    "   acc = accuracy_score(y_test, y_pred)\n",
    "\n",
    "   y_pred_train = knn.predict(X_train)\n",
    "   acc_train = accuracy_score(y_train, y_pred_train)\n",
    "\n",
    "   acc_k_train += [acc_train]\n",
    "   acc_k_test += [acc]\n"
   ]
  },
  {
   "cell_type": "code",
   "execution_count": null,
   "metadata": {},
   "outputs": [],
   "source": [
    "plt.plot(range(3,51,2), acc_k_train,marker='o')\n",
    "plt.plot(range(3,51,2), acc_k_test,marker='o')\n",
    "\n",
    "plt.xticks(np.arange(0,100))\n",
    "plt.xlim(3,25)\n",
    "plt.grid()"
   ]
  },
  {
   "cell_type": "code",
   "execution_count": null,
   "metadata": {},
   "outputs": [],
   "source": [
    "# from sklearn.decomposition import PCA\n",
    "# from sklearn.preprocessing import StandardScaler"
   ]
  },
  {
   "cell_type": "code",
   "execution_count": null,
   "metadata": {},
   "outputs": [],
   "source": [
    "# pca = PCA()"
   ]
  },
  {
   "cell_type": "code",
   "execution_count": null,
   "metadata": {},
   "outputs": [],
   "source": [
    "# scaler = StandardScaler()\n",
    "\n",
    "# pca.fit(scaler.fit_transform(X_train[:17*17]))"
   ]
  },
  {
   "cell_type": "code",
   "execution_count": null,
   "metadata": {},
   "outputs": [],
   "source": [
    "# X_pca = pca.transform(scaler.fit_transform(X_train[:17*17]))"
   ]
  },
  {
   "cell_type": "code",
   "execution_count": null,
   "metadata": {},
   "outputs": [],
   "source": [
    "# plt.imshow(X_train.iloc[15].values[:17*17].reshape(17,17),interpolation='spline36',cmap='seismic')"
   ]
  },
  {
   "cell_type": "code",
   "execution_count": null,
   "metadata": {},
   "outputs": [],
   "source": [
    "# plt.imshow(X_pca[15][:100].reshape(10,10),interpolation='spline36',cmap='seismic')"
   ]
  },
  {
   "cell_type": "code",
   "execution_count": null,
   "metadata": {},
   "outputs": [],
   "source": [
    "# plt.plot(np.cumsum(pca.explained_variance_ratio_))"
   ]
  },
  {
   "cell_type": "code",
   "execution_count": null,
   "metadata": {},
   "outputs": [],
   "source": [
    "# np.cumsum(pca.explained_variance_ratio_)[100]"
   ]
  },
  {
   "cell_type": "code",
   "execution_count": null,
   "metadata": {},
   "outputs": [],
   "source": [
    "from sklearn.tree import DecisionTreeClassifier\n",
    "from sklearn.tree import plot_tree"
   ]
  },
  {
   "cell_type": "code",
   "execution_count": null,
   "metadata": {},
   "outputs": [],
   "source": [
    "dt = DecisionTreeClassifier(criterion='entropy', max_depth=15)\n",
    "dt.fit(X_train, y_train)\n",
    "\n",
    "y_pred_test = dt.predict(X_test)\n",
    "acc_test = accuracy_score(y_test, y_pred_test)\n",
    "\n",
    "y_pred_train = dt.predict(X_train)\n",
    "acc_train = accuracy_score(y_train, y_pred_train)\n",
    "\n",
    "print(f'Model Accuracy (Train): {round(acc_train * 100, 2)}% | Model Accuracy (Test): {round(acc_test * 100, 2)}%')"
   ]
  },
  {
   "cell_type": "code",
   "execution_count": null,
   "metadata": {},
   "outputs": [],
   "source": [
    "plot_confusion_matrix(dt, X_test, y_test, display_labels=['Non-Fault', 'Fault'])"
   ]
  },
  {
   "cell_type": "code",
   "execution_count": null,
   "metadata": {},
   "outputs": [],
   "source": [
    "#print(classification_report(y_test, y_pred_test))"
   ]
  },
  {
   "cell_type": "code",
   "execution_count": null,
   "metadata": {},
   "outputs": [],
   "source": [
    "# plt.figure(figsize=(60,60))\n",
    "# plot_tree(dt, filled=True, rounded=True, class_names=['Non-Fault', 'Fault'], feature_names=X_train.columns)"
   ]
  },
  {
   "cell_type": "code",
   "execution_count": null,
   "metadata": {
    "scrolled": false
   },
   "outputs": [],
   "source": [
    "depth_range = range(3, 31, 2)\n",
    "width_range = range(11, 32, 2)\n",
    "\n",
    "plt.figure(figsize=(15,10))\n",
    "\n",
    "for width in width_range:\n",
    "    height = width\n",
    "\n",
    "    X_fault = obj_to_pixel_df('amplitude', amplitude_cube, fault_obj, width, height, 'Fault')\n",
    "    X_non_fault = obj_to_pixel_df('amplitude', amplitude_cube, non_fault_obj, width, height, 'Non_Fault')\n",
    "    \n",
    "    dataset = pd.concat([X_fault, X_non_fault])\n",
    "\n",
    "    dataset.rename(columns={i : f'Pixel{i}' for i in range(len(dataset.columns) - 1)}, inplace=True)\n",
    "\n",
    "    dataset = dataset.sample(frac=1)\n",
    "\n",
    "    X = dataset.iloc[:,:-1]\n",
    "    y = dataset['y']\n",
    "\n",
    "    X_train, X_test, y_train, y_test = train_test_split(X, y, train_size=0.7)\n",
    "\n",
    "    acc_test_list = []\n",
    "    acc_train_list = []\n",
    "    for depth in depth_range:\n",
    "        acc_test_mean_list = []\n",
    "        acc_train_mean_list = []\n",
    "\n",
    "        for i in range(5):\n",
    "            model = DecisionTreeClassifier(criterion='entropy', max_depth=depth)\n",
    "            model.fit(X_train, y_train)\n",
    "\n",
    "            y_pred = model.predict(X_test)\n",
    "            acc_test = accuracy_score(y_test, y_pred)\n",
    "\n",
    "            y_pred_train = model.predict(X_train)\n",
    "            acc_train = accuracy_score(y_train, y_pred_train)\n",
    "\n",
    "            acc_test_mean_list += [acc_test * 100]\n",
    "            acc_train_mean_list += [acc_train * 100]\n",
    "\n",
    "        acc_test_list += [np.mean(acc_test_mean_list)]\n",
    "        acc_train_list += [np.mean(acc_train_mean_list)]\n",
    "\n",
    "    plt.plot(depth_range, acc_test_list, label=f'Teste | w_h: {width} x {height}')\n",
    "    #plt.plot(depth_range, acc_train_list, label=f'Treino | w_h: {width} x {height}')\n",
    "\n",
    "plt.xlabel('Profundidade Máxima')\n",
    "plt.ylabel('Precisão (%)')\n",
    "plt.legend()"
   ]
  },
  {
   "cell_type": "code",
   "execution_count": null,
   "metadata": {},
   "outputs": [],
   "source": [
    "from sklearn.ensemble import RandomForestClassifier"
   ]
  },
  {
   "cell_type": "code",
   "execution_count": null,
   "metadata": {},
   "outputs": [],
   "source": [
    "rfc = RandomForestClassifier(n_estimators=100)\n",
    "rfc.fit(X_train, y_train)\n",
    "\n",
    "y_pred_test = rfc.predict(X_test)\n",
    "acc_test = accuracy_score(y_test, y_pred_test)\n",
    "\n",
    "y_pred_train = rfc.predict(X_train)\n",
    "acc_train = accuracy_score(y_train, y_pred_train)\n",
    "\n",
    "print(f'Model Accuracy (Train): {round(acc_train * 100, 2)}% | Model Accuracy (Test): {round(acc_test * 100, 2)}%')"
   ]
  },
  {
   "cell_type": "code",
   "execution_count": null,
   "metadata": {},
   "outputs": [],
   "source": [
    "plot_confusion_matrix(rfc, X_test, y_test, display_labels=['Non-Fault', 'Fault'])"
   ]
  },
  {
   "cell_type": "markdown",
   "metadata": {},
   "source": [
    "VARREDURA"
   ]
  },
  {
   "cell_type": "code",
   "execution_count": null,
   "metadata": {},
   "outputs": [],
   "source": [
    "iline_number = 300\n",
    "width, height = 15, 15\n",
    "\n",
    "iline_amplitude_array = amplitude_cube.iline[iline_number].T\n",
    "#iline_similarity_array = similarity_cube.isel(iline=iline_number).data.T.to_numpy()\n",
    "\n",
    "mask_array = np.zeros(iline_amplitude_array.shape) * np.nan\n",
    "\n",
    "for i, row in enumerate(iline_amplitude_array):\n",
    "        \n",
    "    if i > 0 and X_to_predict.shape != (1, width * height):\n",
    "        pass\n",
    "        \n",
    "    for j, col in enumerate(row):\n",
    "            \n",
    "        window_amplitude_array = iline_amplitude_array[i : i + height, j : j + width]\n",
    "        window_amplitude_array = norm_data(window_amplitude_array, np.min(window_amplitude_array), np.max(window_amplitude_array))\n",
    "\n",
    "        #window_similarity_array = iline_amplitude_array[i : i + height, j : j + width]\n",
    "        #window_similarity_array = norm_data(window_similarity_array, np.min(window_similarity_array), np.max(window_similarity_array))\n",
    "\n",
    "        window_center_coord = (i + int(height / 2), j + int(height / 2))\n",
    "        \n",
    "        amplitude_pixels = window_amplitude_array.reshape(1,-1)\n",
    "        #similarity_pixels = window_similarity_array.reshape(1,-1)\n",
    "        \n",
    "        X_to_predict = amplitude_pixels\n",
    "        \n",
    "        if X_to_predict.shape != (1, width * height):\n",
    "            pass\n",
    "        else:\n",
    "            predicted_value = knn.predict(X_to_predict)[0]\n",
    "\n",
    "            mask_array[i][j] = predicted_value"
   ]
  },
  {
   "cell_type": "code",
   "execution_count": null,
   "metadata": {},
   "outputs": [],
   "source": [
    "plt.figure(figsize=(17,10))\n",
    "plt.imshow(mask_array, cmap='gray_r')"
   ]
  },
  {
   "cell_type": "code",
   "execution_count": null,
   "metadata": {},
   "outputs": [],
   "source": []
  },
  {
   "cell_type": "code",
   "execution_count": null,
   "metadata": {},
   "outputs": [],
   "source": []
  }
 ],
 "metadata": {
  "interpreter": {
   "hash": "ac59ebe37160ed0dfa835113d9b8498d9f09ceb179beaac4002f036b9467c963"
  },
  "kernelspec": {
   "display_name": "Python 3 (ipykernel)",
   "language": "python",
   "name": "python3"
  },
  "language_info": {
   "codemirror_mode": {
    "name": "ipython",
    "version": 3
   },
   "file_extension": ".py",
   "mimetype": "text/x-python",
   "name": "python",
   "nbconvert_exporter": "python",
   "pygments_lexer": "ipython3",
   "version": "3.9.12"
  }
 },
 "nbformat": 4,
 "nbformat_minor": 2
}
