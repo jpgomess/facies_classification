{
 "cells": [
  {
   "cell_type": "code",
   "execution_count": null,
   "metadata": {},
   "outputs": [],
   "source": [
    "import warnings\n",
    "warnings.filterwarnings(action='ignore')\n",
    "\n",
    "from segysak.segy import segy_loader\n",
    "import matplotlib.pyplot as plt\n",
    "import pandas as pd\n",
    "import numpy as np\n",
    "import cv2 as cv\n",
    "import segyio\n",
    "import os"
   ]
  },
  {
   "cell_type": "code",
   "execution_count": null,
   "metadata": {},
   "outputs": [],
   "source": [
    "def plot_faults(file_path, cube_path, cmap='gray_r'):\n",
    "\n",
    "    df = pd.read_csv(file_path, delim_whitespace=True)\n",
    "    cube = segyio.open(cube_path)\n",
    "    \n",
    "    iline_list = cube.ilines\n",
    "    xline_list = cube.xlines\n",
    "    iline0 = iline_list[0]\n",
    "    xline0 = xline_list[0]\n",
    "\n",
    "    print(f'Initial Values:\\n   Inline: {iline0} | Crossline: {xline0}')\n",
    "\n",
    "    rows = len(df['Inline'][df['Line'] == 'Inline'].unique()) + len(df['Xline'][df['Line'] == 'Xline'].unique())\n",
    "    cols = 1\n",
    "\n",
    "    fig, ax = plt.subplots(rows, cols, figsize=(15 * cols, 7 * rows))\n",
    "    count = 0\n",
    "    for line_str in df['Line'].unique():\n",
    "        for line_number in df[line_str][df['Line'] == line_str].unique():\n",
    "            img = cube.iline[line_number].T if line_str == 'Inline' else cube.xline[line_number].T\n",
    "            mask = np.zeros(img.shape) * np.nan\n",
    "\n",
    "            X = df['Xline'][df[line_str] == line_number][df['Line'] == line_str] - xline0 if line_str == 'Inline' else df['Inline'][df[line_str] == line_number][df['Line'] == line_str] - iline0\n",
    "            Y = df['Time'][df[line_str] == line_number][df['Line'] == line_str]\n",
    "\n",
    "            ax[count].imshow(img, cmap=cmap)\n",
    "            ax[count].set_title(f'{line_str}: {line_number}')\n",
    "            if line_str == 'Inline':\n",
    "                for id in df['ID'][df['Line'] == line_str][df['Inline'] == line_number].unique():\n",
    "                    [cv.line(mask, (int(df['Xline'][df['ID'] == id].iloc[i-1] - xline0), int(df['Time'][df['ID'] == id].iloc[i-1])), (int(df['Xline'][df['ID'] == id].iloc[i] - xline0), int(df['Time'][df['ID'] == id].iloc[i])), (1,0,0), 3) for i in range(1, len(df['ID'][df['ID'] == id]))]\n",
    "                ax[count].set_xlabel('Xline')\n",
    "            else:\n",
    "                for id in df['ID'][df['Line'] == line_str][df['Xline'] == line_number].unique():\n",
    "                    [cv.line(mask, (int(df['Inline'][df['ID'] == id].iloc[i-1] - xline0), int(df['Time'][df['ID'] == id].iloc[i-1])), (int(df['Inline'][df['ID'] == id].iloc[i] - xline0), int(df['Time'][df['ID'] == id].iloc[i])), (1,0,0), 3) for i in range(1, len(df['ID'][df['ID'] == id]))]\n",
    "                ax[count].set_xlabel('Inline')\n",
    "            ax[count].imshow(mask)\n",
    "            ax[count].set_ylabel('Time')\n",
    "            count += 1\n",
    "            \n",
    "def get_amplitude_mask_dataset(file_path, cube_path, width, height):\n",
    "\n",
    "    df = pd.read_csv(file_path, delim_whitespace=True)\n",
    "    cube = segyio.open(cube_path)\n",
    "\n",
    "    iline_list = cube.ilines\n",
    "    xline_list = cube.xlines\n",
    "    iline0 = iline_list[0]\n",
    "    xline0 = xline_list[0]\n",
    "\n",
    "    X = {}\n",
    "    y = {}\n",
    "\n",
    "    count = 0\n",
    "    for line_str in df['Line'].unique():\n",
    "        for line_number in df[line_str][df['Line'] == line_str].unique():\n",
    "            img = cube.iline[line_number].T if line_str == 'Inline' else cube.xline[line_number].T\n",
    "            mask = np.zeros(img.shape)\n",
    "\n",
    "            if line_str == 'Inline':\n",
    "                for id in df['ID'][df['Line'] == line_str][df['Inline'] == line_number].unique():\n",
    "                    [cv.line(mask, (int(df['Xline'][df['ID'] == id].iloc[i-1] - xline0), int(df['Time'][df['ID'] == id].iloc[i-1])), (int(df['Xline'][df['ID'] == id].iloc[i] - xline0), int(df['Time'][df['ID'] == id].iloc[i])), (1,0,0), 3) for i in range(1, len(df['ID'][df['ID'] == id]))]\n",
    "            else:\n",
    "                for id in df['ID'][df['Line'] == line_str][df['Xline'] == line_number].unique():\n",
    "                    [cv.line(mask, (int(df['Inline'][df['ID'] == id].iloc[i-1] - xline0), int(df['Time'][df['ID'] == id].iloc[i-1])), (int(df['Inline'][df['ID'] == id].iloc[i] - xline0), int(df['Time'][df['ID'] == id].iloc[i])), (1,0,0), 3) for i in range(1, len(df['ID'][df['ID'] == id]))]\n",
    "\n",
    "            for i in range(img.shape[0] - (height - 1)):\n",
    "                for j in range(img.shape[1] - (width - 1)):\n",
    "\n",
    "                    window_amplitude = img[i : i + height, j : j + width]\n",
    "                    window_amplitude = norm_data(window_amplitude, np.min(window_amplitude), np.max(window_amplitude))\n",
    "\n",
    "                    window_mask = mask[i : i + height, j : j + width]\n",
    "\n",
    "                    X.update({f'W_{count}' : window_amplitude.reshape(1,-1)[0]})\n",
    "                    y.update({f'W_{count}' : window_mask.reshape(1,-1)[0]})\n",
    "\n",
    "                    count += 1\n",
    "                \n",
    "    dataset = pd.concat([pd.DataFrame(X).T, pd.DataFrame(y).T.astype('int8')], axis=1)\n",
    "    renamed_columns = [f'X{i}' for i in range(width * height)] + [f'y{i}' for i in range(width * height)]\n",
    "    dataset.columns = renamed_columns\n",
    "    \n",
    "    return dataset\n",
    "\n",
    "def norm_data(X, x_min, x_max):\n",
    "    return (X - x_min) / (x_max - x_min)"
   ]
  },
  {
   "cell_type": "code",
   "execution_count": null,
   "metadata": {},
   "outputs": [],
   "source": [
    "# faults_path = r'C:\\Users\\jpgom\\Documents\\Jão\\git\\facies_classification\\Faults.dat'\n",
    "# cube_path = r'C:\\Users\\jpgom\\Documents\\Jão\\UFBA\\IC\\Code\\Seismic_data_w_null.sgy'\n",
    "\n",
    "faults_path = r'C:\\Users\\jpg\\Desktop\\code\\Faults.dat'\n",
    "cube_path = r'C:\\Users\\jpg\\Desktop\\code\\Seismic_data_w_null.sgy'"
   ]
  },
  {
   "cell_type": "code",
   "execution_count": null,
   "metadata": {},
   "outputs": [],
   "source": [
    "# plot_faults(faults_path, cube_path, cmap='gray_r')"
   ]
  },
  {
   "cell_type": "code",
   "execution_count": null,
   "metadata": {},
   "outputs": [],
   "source": [
    "width = 15\n",
    "height = 15\n",
    "\n",
    "dataset = get_amplitude_mask_dataset(faults_path, cube_path, width, height)"
   ]
  },
  {
   "cell_type": "code",
   "execution_count": null,
   "metadata": {},
   "outputs": [],
   "source": [
    "dataset.info()"
   ]
  },
  {
   "cell_type": "code",
   "execution_count": null,
   "metadata": {},
   "outputs": [],
   "source": []
  }
 ],
 "metadata": {
  "interpreter": {
   "hash": "ac59ebe37160ed0dfa835113d9b8498d9f09ceb179beaac4002f036b9467c963"
  },
  "kernelspec": {
   "display_name": "Python 3 (ipykernel)",
   "language": "python",
   "name": "python3"
  },
  "language_info": {
   "codemirror_mode": {
    "name": "ipython",
    "version": 3
   },
   "file_extension": ".py",
   "mimetype": "text/x-python",
   "name": "python",
   "nbconvert_exporter": "python",
   "pygments_lexer": "ipython3",
   "version": "3.9.7"
  }
 },
 "nbformat": 4,
 "nbformat_minor": 2
}
