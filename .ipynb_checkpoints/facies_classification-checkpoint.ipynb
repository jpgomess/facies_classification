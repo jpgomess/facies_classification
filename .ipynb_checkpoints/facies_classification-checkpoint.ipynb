{
 "cells": [
  {
   "cell_type": "code",
   "execution_count": null,
   "metadata": {},
   "outputs": [],
   "source": [
    "from sklearn.model_selection import train_test_split\n",
    "from sklearn.linear_model import LogisticRegression\n",
    "from sklearn.metrics import classification_report\n",
    "from sklearn.metrics import plot_confusion_matrix\n",
    "from sklearn.metrics import accuracy_score\n",
    "from segysak.segy import segy_loader\n",
    "import matplotlib.pyplot as plt\n",
    "import pandas as pd\n",
    "import numpy as np\n",
    "import cv2 as cv\n",
    "import warnings\n",
    "import pickle\n",
    "import segyio\n",
    "import xarray\n",
    "import os\n",
    "\n",
    "warnings.filterwarnings(action='ignore')"
   ]
  },
  {
   "cell_type": "code",
   "execution_count": null,
   "metadata": {},
   "outputs": [],
   "source": [
    "def norm_data(X, x_min, x_max):\n",
    "    return (X - x_min) / (x_max - x_min)\n",
    "\n",
    "def obj_to_pixel_df(cube_sgy, obj, width, height, index_label):\n",
    "    \"\"\"\n",
    "    Function to read the \".obj\" file that contains the coordinates\n",
    "    of the facie's selected points and return a DataFrame that contains\n",
    "    the pixels around each point.\n",
    "    \n",
    "    Paramaters\n",
    "    ----------\n",
    "    cube_sgy : segyio.segy.SegyFile or xarray.core.dataset.Dataset\n",
    "        Loaded \".sgy\" file.\n",
    "    obj : list\n",
    "        Loaded object file.\n",
    "    width : int\n",
    "        Size of window width.\n",
    "    height : int\n",
    "        Size of window height.\n",
    "    index_label : str\n",
    "        Label of the dataset index.\n",
    "        \n",
    "    Returns\n",
    "    -------\n",
    "    dataset : pandas.DataFrame\n",
    "        Each row of the DataFrame represents a window and each column\n",
    "        represents one pixel of that window.\n",
    "    \"\"\"\n",
    "    \n",
    "    dataset = pd.DataFrame()\n",
    "\n",
    "    if width % 2 > 0:\n",
    "        width_coef = 1\n",
    "    else:\n",
    "        width_coef = 0\n",
    "    \n",
    "    if height % 2 > 0:\n",
    "        height_coef = 1\n",
    "    else:\n",
    "        height_coef = 0\n",
    "\n",
    "    half_width = int(round(width / 2 - 0.5, 0))\n",
    "    half_height = int(round(height / 2 - 0.5, 0))\n",
    "    \n",
    "    count = 0\n",
    "    for click in obj:\n",
    "        iline_number = click['inline']\n",
    "        xline_number = click['crossline']\n",
    "\n",
    "        x = click['x']\n",
    "        y = click['y']\n",
    "\n",
    "        if type(cube_sgy) == xarray.core.dataset.Dataset:\n",
    "            if iline_number != None:\n",
    "                img = cube_sgy.isel(iline=iline_number).data.T.to_numpy()[x - half_width : x + half_width + width_coef, y - half_height : y + half_height + height_coef]\n",
    "            else:\n",
    "                img = cube_sgy.isel(xline=xline_number).data.T.to_numpy()[x - half_width : x + half_width + width_coef, y - half_height : y + half_height + height_coef]\n",
    "        elif type(cube_sgy) == segyio.segy.SegyFile:\n",
    "            if iline_number != None:\n",
    "                img = cube_sgy.iline[iline_number][x - half_width : x + half_width + width_coef, y - half_height : y + half_height + height_coef].T\n",
    "            else:\n",
    "                img = cube_sgy.xline[xline_number][x - half_width : x + half_width + width_coef, y - half_height : y + half_height + height_coef].T\n",
    "\n",
    "        pixels = img.reshape(-1,1)\n",
    "\n",
    "        if len(pixels) == int(width * height):\n",
    "            pixels = norm_data(pixels, np.min(pixels), np.max(pixels))\n",
    "            dataset[f'{index_label}{count}'] = [pixel[0] for pixel in pixels.tolist()]\n",
    "\n",
    "        count += 1\n",
    "\n",
    "    dataset = dataset.T\n",
    "    #dataset.index = [f'{index_label}{i}' for i in range(len(dataset))]\n",
    "\n",
    "    if index_label == 'Fault':\n",
    "        dataset['y'] = [1 for i in range(len(dataset))]\n",
    "\n",
    "    elif index_label == 'Non_Fault':\n",
    "        dataset['y'] = [0 for i in range(len(dataset))]\n",
    "\n",
    "    return dataset\n",
    "\n",
    "def get_df_from_dats(path):\n",
    "    fault_list = [fault for fault in os.listdir(path) if fault.endswith('.dat')]\n",
    "\n",
    "    df = pd.DataFrame()\n",
    "\n",
    "    for fault in fault_list:\n",
    "        df_to_concat = pd.read_csv(f'{path}\\{fault}', delim_whitespace=True, header=None)\n",
    "        df_to_concat.columns = ['Name', 'Inline', 'Xline', 'Time', 'idk', 'n']\n",
    "\n",
    "        i_or_x = fault.split('_')[1]\n",
    "\n",
    "        df_to_concat['Line'] = [i_or_x for _ in range(len(df_to_concat))]\n",
    "\n",
    "        df = pd.concat([df, df_to_concat])\n",
    "\n",
    "    df['Time'] /= 4\n",
    "    df['Time'] = round(df['Time'])\n",
    "\n",
    "    id = []\n",
    "    count = -1\n",
    "    for i in range(len(df)):\n",
    "        if df['n'].iloc[i] == 0:\n",
    "            count += 1\n",
    "        id += [count]\n",
    "    df['ID'] = id\n",
    "\n",
    "    df.drop(['Name', 'idk', 'n'], axis=1, inplace=True)\n",
    "\n",
    "    df = df[df.columns[::-1]]\n",
    "\n",
    "    df.set_index('ID', inplace=True)\n",
    "\n",
    "    return df\n",
    "\n",
    "def plot_faults(file_path, cube_path, cmap='gray', linewidth=2):\n",
    "\n",
    "    df = pd.read_csv(file_path, delim_whitespace=True)\n",
    "    cube = segyio.open(cube_path)\n",
    "    \n",
    "    iline_list = cube.ilines\n",
    "    xline_list = cube.xlines\n",
    "    iline0 = iline_list[0]\n",
    "    xline0 = xline_list[0]\n",
    "\n",
    "    print(f'Initial Values:\\n   Inline: {iline0} | Crossline: {xline0}')\n",
    "\n",
    "    rows = len(df['Inline'][df['Line'] == 'Inline'].unique()) + len(df['Xline'][df['Line'] == 'Xline'].unique())\n",
    "    cols = 1\n",
    "\n",
    "    fig, ax = plt.subplots(rows, cols, figsize=(15 * cols, 7 * rows))\n",
    "    count = 0\n",
    "    for line_str in df['Line'].unique():\n",
    "        for line_number in df[line_str][df['Line'] == line_str].unique():\n",
    "            img = cube.iline[line_number].T if line_str == 'Inline' else cube.xline[line_number].T\n",
    "            mask = np.zeros(img.shape) * np.nan\n",
    "\n",
    "            X = df['Xline'][df[line_str] == line_number][df['Line'] == line_str] - xline0 if line_str == 'Inline' else df['Inline'][df[line_str] == line_number][df['Line'] == line_str] - iline0\n",
    "            Y = df['Time'][df[line_str] == line_number][df['Line'] == line_str]\n",
    "\n",
    "            ax[count].imshow(img, cmap=cmap)\n",
    "            ax[count].set_title(f'{line_str}: {line_number}')\n",
    "            if line_str == 'Inline':\n",
    "                for id in df['ID'][df['Line'] == line_str][df['Inline'] == line_number].unique():\n",
    "                    [cv.line(mask, (int(df['Xline'][df['ID'] == id].iloc[i-1] - xline0), int(df['Time'][df['ID'] == id].iloc[i-1])), (int(df['Xline'][df['ID'] == id].iloc[i] - xline0), int(df['Time'][df['ID'] == id].iloc[i])), (1,0,0), linewidth) for i in range(1, len(df['ID'][df['ID'] == id]))]\n",
    "                ax[count].set_xlabel('Xline')\n",
    "            else:\n",
    "                for id in df['ID'][df['Line'] == line_str][df['Xline'] == line_number].unique():\n",
    "                    [cv.line(mask, (int(df['Inline'][df['ID'] == id].iloc[i-1] - xline0), int(df['Time'][df['ID'] == id].iloc[i-1])), (int(df['Inline'][df['ID'] == id].iloc[i] - xline0), int(df['Time'][df['ID'] == id].iloc[i])), (1,0,0), linewidth) for i in range(1, len(df['ID'][df['ID'] == id]))]\n",
    "                ax[count].set_xlabel('Inline')\n",
    "            ax[count].imshow(mask)\n",
    "            ax[count].set_ylabel('Time')\n",
    "            count += 1\n",
    "            \n",
    "def get_amplitude_mask_dataset(file_path, cube, width=15, height=15, linewidth=2, x_type='float32', y_type='int8'):\n",
    "\n",
    "    df = pd.read_csv(file_path, delim_whitespace=True)\n",
    "\n",
    "    iline_list = cube.ilines\n",
    "    xline_list = cube.xlines\n",
    "    iline0 = iline_list[0]\n",
    "    xline0 = xline_list[0]\n",
    "\n",
    "    X = {}\n",
    "    y = {}\n",
    "    fault_or_not = {}\n",
    "    \n",
    "    n_occurrences = height * linewidth / 2\n",
    "\n",
    "    count = 0\n",
    "    for line_str in df['Line'].unique():\n",
    "        for line_number in df[line_str][df['Line'] == line_str].unique():\n",
    "            print(line_str, \" -> \", line_number, \" -> \", count)\n",
    "            img = cube.iline[line_number].T if line_str == 'Inline' else cube.xline[line_number].T\n",
    "            mask = np.zeros(img.shape)\n",
    "\n",
    "            if line_str == 'Inline':\n",
    "                for id in df['ID'][df['Line'] == line_str][df['Inline'] == line_number].unique():\n",
    "                    [cv.line(mask, (int(df['Xline'][df['ID'] == id].iloc[i-1] - xline0), int(df['Time'][df['ID'] == id].iloc[i-1])), (int(df['Xline'][df['ID'] == id].iloc[i] - xline0), int(df['Time'][df['ID'] == id].iloc[i])), (1,0,0), linewidth) for i in range(1, len(df['ID'][df['ID'] == id]))]\n",
    "            else:\n",
    "                for id in df['ID'][df['Line'] == line_str][df['Xline'] == line_number].unique():\n",
    "                    [cv.line(mask, (int(df['Inline'][df['ID'] == id].iloc[i-1] - xline0), int(df['Time'][df['ID'] == id].iloc[i-1])), (int(df['Inline'][df['ID'] == id].iloc[i] - xline0), int(df['Time'][df['ID'] == id].iloc[i])), (1,0,0), linewidth) for i in range(1, len(df['ID'][df['ID'] == id]))]\n",
    "\n",
    "            for i in range(img.shape[0] - (height - 1)):\n",
    "                for j in range(img.shape[1] - (width - 1)):\n",
    "\n",
    "                    window_amplitude = img[i : i + height, j : j + width]\n",
    "                    window_amplitude = norm_data(window_amplitude, np.min(window_amplitude), np.max(window_amplitude))\n",
    "\n",
    "                    window_mask = mask[i : i + height, j : j + width]\n",
    "\n",
    "                    X.update({f'W_{count}' : window_amplitude.reshape(1,-1)[0]})\n",
    "                    y.update({f'W_{count}' : window_mask.reshape(1,-1)[0]})\n",
    "                    if np.count_nonzero(window_mask == 1) >= n_occurrences:\n",
    "                        fault_or_not.update({f'W_{count}' : [1]})\n",
    "                    else:\n",
    "                        fault_or_not.update({f'W_{count}' : [0]})\n",
    "\n",
    "                    count += 1\n",
    "    \n",
    "    dataset = pd.concat(\n",
    "        [pd.DataFrame(X).T, pd.DataFrame(y).T.astype('int8'), pd.DataFrame(fault_or_not).T.astype('int8')],\n",
    "        axis=1)\n",
    "    renamed_columns = [f'X{i}' for i in range(width * height)] + [f'y{i}' for i in range(width * height)] + ['Fault_or_Not']\n",
    "    dataset.columns = renamed_columns\n",
    "    \n",
    "    return dataset"
   ]
  },
  {
   "cell_type": "code",
   "execution_count": null,
   "metadata": {},
   "outputs": [],
   "source": [
    "#amplitude_cube_path = r'C:\\Users\\jpgom\\Documents\\Jão\\VS_Code\\IC\\Seismic_data_w_null.sgy'\n",
    "#amplitude_cube_path = '/home/gaia/jpedro/Seismic_data_w_null.sgy'\n",
    "amplitude_cube_path = r'C:\\Users\\jpg\\Desktop\\code\\Seismic_data_w_null.sgy'\n",
    "\n",
    "#similarity_cube_path = r'C:\\Users\\jpgom\\Documents\\Jão\\VS_Code\\IC\\F3_Similaridade_Full (455).sgy'\n",
    "#similarity_cube_path = '/home/gaia/jpedro/F3_Similaridade_Full (455).sgy'\n",
    "\n",
    "amplitude_cube = segyio.open(amplitude_cube_path)\n",
    "#amplitude_cube = segy_loader(amplitude_cube_path, iline=189, xline=193, cdpx=181, cdpy=185)"
   ]
  },
  {
   "cell_type": "markdown",
   "metadata": {},
   "source": [
    "### GET X AND Y FROM \".OBJ\" FILES"
   ]
  },
  {
   "cell_type": "code",
   "execution_count": null,
   "metadata": {},
   "outputs": [],
   "source": [
    "#file = open(r'C:\\Users\\jpgom\\Documents\\Jão\\git\\facies_selector\\Fault.obj', 'rb')\n",
    "#file = open('/home/gaia/jpedro/git/facies_selector/Fault.obj', 'rb')\n",
    "file = open(r'C:\\Users\\jpg\\Desktop\\code\\Fault.obj', mode='rb')\n",
    "fault_obj = pickle.load(file)\n",
    "file.close()\n",
    "\n",
    "#file = open(r'C:\\Users\\jpgom\\Documents\\Jão\\git\\facies_selector\\Non_Fault.obj', 'rb')\n",
    "#file = open('/home/gaia/jpedro/git/facies_selector/Fault.obj', 'rb')\n",
    "file = open(r'C:\\Users\\jpg\\Desktop\\code\\Non_Fault.obj', mode='rb')\n",
    "non_fault_obj = pickle.load(file)\n",
    "file.close()\n",
    "\n",
    "width = 13\n",
    "height = 13\n",
    "\n",
    "X_fault_amplitude = obj_to_pixel_df('default', amplitude_cube, fault_obj, width, height, 'Fault')\n",
    "X_non_fault_amplitude = obj_to_pixel_df('default', amplitude_cube, non_fault_obj, width, height, 'Non_Fault')\n",
    "\n",
    "dataset_amplitude = pd.concat([X_fault_amplitude, X_non_fault_amplitude])\n",
    "dataset_amplitude.rename(columns={i : f'Pixel{i}_D' for i in range(len(dataset_amplitude.columns) - 1)}, inplace=True)\n",
    "\n",
    "dataset = dataset_amplitude.dropna()\n",
    "dataset = dataset.sample(frac=1)\n",
    "\n",
    "X = dataset.iloc[:,:-1]\n",
    "y = dataset['y']\n",
    "\n",
    "# index = 45\n",
    "# img = np.array(X.iloc[index, :]).reshape(width, height)\n",
    "# plt.imshow(img, cmap='gray_r', aspect='auto')\n",
    "# plt.title(X.index[index])"
   ]
  },
  {
   "cell_type": "markdown",
   "metadata": {},
   "source": [
    "### GET X AND Y FROM \".DAT\" FILE"
   ]
  },
  {
   "cell_type": "code",
   "execution_count": null,
   "metadata": {},
   "outputs": [],
   "source": [
    "faults_path = r'C:\\Users\\jpg\\Desktop\\code\\facies_classification\\Faults.dat'\n",
    "cube_path = r'C:\\Users\\jpg\\Desktop\\code\\Seismic_data_w_null.sgy'\n",
    "\n",
    "cube = segyio.open(cube_path)\n",
    "\n",
    "width = 30\n",
    "height = 30\n",
    "\n",
    "dataset = get_amplitude_mask_dataset(faults_path, cube, width, height, linewidth=2, x_type='float32', y_type='int8')"
   ]
  },
  {
   "cell_type": "code",
   "execution_count": null,
   "metadata": {},
   "outputs": [],
   "source": [
    "X = dataset.iloc[ : 399226, : width*height]\n",
    "y = dataset.iloc[ : 399226, -1]\n",
    "\n",
    "X_train, X_test, y_train, y_test = train_test_split(X, y, random_state=9, train_size=0.70)\n",
    "\n",
    "print(f'Shapes: \\n    X: {X.shape} | y: {y.shape} | X_train: {X_train.shape} | X_test: {X_test.shape} | y_train: {y_train.shape} | y_test: {y_test.shape}')"
   ]
  },
  {
   "cell_type": "code",
   "execution_count": null,
   "metadata": {},
   "outputs": [],
   "source": [
    "X_train, X_test, y_train, y_test = train_test_split(X, y, random_state=9, train_size=0.70)"
   ]
  },
  {
   "cell_type": "code",
   "execution_count": null,
   "metadata": {},
   "outputs": [],
   "source": [
    "clf = LogisticRegression(penalty='none', \n",
    "                          solver='saga',\n",
    "                          n_jobs=-1,\n",
    "                          multi_class='multinomial').fit(X_train, y_train)\n",
    "\n",
    "clf.coef_.shape\n",
    "\n",
    "y_pred_test = clf.predict(X_test)\n",
    "acc_test = accuracy_score(y_test, y_pred_test)\n",
    "\n",
    "y_pred_train = clf.predict(X_train)\n",
    "acc_train = accuracy_score(y_train, y_pred_train)\n",
    "\n",
    "print(f'Model Accuracy (Train): {round(acc_train * 100, 2)}% | Model Accuracy (Test): {round(acc_test * 100, 2)}%')"
   ]
  },
  {
   "cell_type": "code",
   "execution_count": null,
   "metadata": {},
   "outputs": [],
   "source": [
    "plot_confusion_matrix(clf, X_test, y_test, display_labels=['Non-Fault', 'Fault'])"
   ]
  },
  {
   "cell_type": "code",
   "execution_count": null,
   "metadata": {},
   "outputs": [],
   "source": [
    "#print(classification_report(y_test,y_pred_test))"
   ]
  },
  {
   "cell_type": "code",
   "execution_count": null,
   "metadata": {},
   "outputs": [],
   "source": [
    "from sklearn.neighbors import KNeighborsClassifier"
   ]
  },
  {
   "cell_type": "code",
   "execution_count": null,
   "metadata": {},
   "outputs": [],
   "source": [
    "knn = KNeighborsClassifier(n_neighbors=5)\n",
    "knn.fit(X_train,y_train)\n",
    "\n",
    "y_pred_test = knn.predict(X_test)\n",
    "acc_test = accuracy_score(y_test, y_pred_test)\n",
    "\n",
    "y_pred_train = knn.predict(X_train)\n",
    "acc_train = accuracy_score(y_train, y_pred_train)\n",
    "\n",
    "print(f'Model Accuracy (Train): {round(acc_train * 100, 2)}% | Model Accuracy (Test): {round(acc_test * 100, 2)}%')"
   ]
  },
  {
   "cell_type": "code",
   "execution_count": null,
   "metadata": {},
   "outputs": [],
   "source": [
    "plot_confusion_matrix(knn, X_test, y_test, display_labels=['Non-Fault', 'Fault'])"
   ]
  },
  {
   "cell_type": "code",
   "execution_count": null,
   "metadata": {},
   "outputs": [],
   "source": [
    "#print(classification_report(y_test,y_pred_test))"
   ]
  },
  {
   "cell_type": "code",
   "execution_count": null,
   "metadata": {},
   "outputs": [],
   "source": [
    "acc_k_train = []\n",
    "acc_k_test = []\n",
    "\n",
    "for k in range(3,51,2):\n",
    "   knn = KNeighborsClassifier(n_neighbors=k)\n",
    "   knn.fit(X_train,y_train)\n",
    "\n",
    "   y_pred = knn.predict(X_test)\n",
    "   acc = accuracy_score(y_test, y_pred)\n",
    "\n",
    "   y_pred_train = knn.predict(X_train)\n",
    "   acc_train = accuracy_score(y_train, y_pred_train)\n",
    "\n",
    "   acc_k_train += [acc_train]\n",
    "   acc_k_test += [acc]\n"
   ]
  },
  {
   "cell_type": "code",
   "execution_count": null,
   "metadata": {},
   "outputs": [],
   "source": [
    "plt.plot(range(3,51,2), acc_k_train,marker='o')\n",
    "plt.plot(range(3,51,2), acc_k_test,marker='o')\n",
    "\n",
    "plt.xticks(np.arange(0,100))\n",
    "plt.xlim(3,25)\n",
    "plt.grid()"
   ]
  },
  {
   "cell_type": "code",
   "execution_count": null,
   "metadata": {},
   "outputs": [],
   "source": [
    "# from sklearn.decomposition import PCA\n",
    "# from sklearn.preprocessing import StandardScaler"
   ]
  },
  {
   "cell_type": "code",
   "execution_count": null,
   "metadata": {},
   "outputs": [],
   "source": [
    "# pca = PCA()"
   ]
  },
  {
   "cell_type": "code",
   "execution_count": null,
   "metadata": {},
   "outputs": [],
   "source": [
    "# scaler = StandardScaler()\n",
    "\n",
    "# pca.fit(scaler.fit_transform(X_train[:17*17]))"
   ]
  },
  {
   "cell_type": "code",
   "execution_count": null,
   "metadata": {},
   "outputs": [],
   "source": [
    "# X_pca = pca.transform(scaler.fit_transform(X_train[:17*17]))"
   ]
  },
  {
   "cell_type": "code",
   "execution_count": null,
   "metadata": {},
   "outputs": [],
   "source": [
    "# plt.imshow(X_train.iloc[15].values[:17*17].reshape(17,17),interpolation='spline36',cmap='seismic')"
   ]
  },
  {
   "cell_type": "code",
   "execution_count": null,
   "metadata": {},
   "outputs": [],
   "source": [
    "# plt.imshow(X_pca[15][:100].reshape(10,10),interpolation='spline36',cmap='seismic')"
   ]
  },
  {
   "cell_type": "code",
   "execution_count": null,
   "metadata": {},
   "outputs": [],
   "source": [
    "# plt.plot(np.cumsum(pca.explained_variance_ratio_))"
   ]
  },
  {
   "cell_type": "code",
   "execution_count": null,
   "metadata": {},
   "outputs": [],
   "source": [
    "# np.cumsum(pca.explained_variance_ratio_)[100]"
   ]
  },
  {
   "cell_type": "code",
   "execution_count": null,
   "metadata": {},
   "outputs": [],
   "source": [
    "from sklearn.tree import DecisionTreeClassifier\n",
    "from sklearn.tree import plot_tree"
   ]
  },
  {
   "cell_type": "code",
   "execution_count": null,
   "metadata": {},
   "outputs": [],
   "source": [
    "dt = DecisionTreeClassifier(criterion='entropy', max_depth=15)\n",
    "dt.fit(X_train, y_train)\n",
    "\n",
    "y_pred_test = dt.predict(X_test)\n",
    "acc_test = accuracy_score(y_test, y_pred_test)\n",
    "\n",
    "y_pred_train = dt.predict(X_train)\n",
    "acc_train = accuracy_score(y_train, y_pred_train)\n",
    "\n",
    "print(f'Model Accuracy (Train): {round(acc_train * 100, 2)}% | Model Accuracy (Test): {round(acc_test * 100, 2)}%')"
   ]
  },
  {
   "cell_type": "code",
   "execution_count": null,
   "metadata": {},
   "outputs": [],
   "source": [
    "plot_confusion_matrix(dt, X_test, y_test, display_labels=['Non-Fault', 'Fault'])"
   ]
  },
  {
   "cell_type": "code",
   "execution_count": null,
   "metadata": {},
   "outputs": [],
   "source": [
    "#print(classification_report(y_test, y_pred_test))"
   ]
  },
  {
   "cell_type": "code",
   "execution_count": null,
   "metadata": {},
   "outputs": [],
   "source": [
    "# plt.figure(figsize=(60,60))\n",
    "# plot_tree(dt, filled=True, rounded=True, class_names=['Non-Fault', 'Fault'], feature_names=X_train.columns)"
   ]
  },
  {
   "cell_type": "code",
   "execution_count": null,
   "metadata": {
    "scrolled": false
   },
   "outputs": [],
   "source": [
    "depth_range = range(3, 31, 2)\n",
    "width_range = range(11, 32, 2)\n",
    "\n",
    "plt.figure(figsize=(15,10))\n",
    "\n",
    "for width in width_range:\n",
    "    height = width\n",
    "\n",
    "    X_fault = obj_to_pixel_df('amplitude', amplitude_cube, fault_obj, width, height, 'Fault')\n",
    "    X_non_fault = obj_to_pixel_df('amplitude', amplitude_cube, non_fault_obj, width, height, 'Non_Fault')\n",
    "    \n",
    "    dataset = pd.concat([X_fault, X_non_fault])\n",
    "\n",
    "    dataset.rename(columns={i : f'Pixel{i}' for i in range(len(dataset.columns) - 1)}, inplace=True)\n",
    "\n",
    "    dataset = dataset.sample(frac=1)\n",
    "\n",
    "    X = dataset.iloc[:,:-1]\n",
    "    y = dataset['y']\n",
    "\n",
    "    X_train, X_test, y_train, y_test = train_test_split(X, y, train_size=0.7)\n",
    "\n",
    "    acc_test_list = []\n",
    "    acc_train_list = []\n",
    "    for depth in depth_range:\n",
    "        acc_test_mean_list = []\n",
    "        acc_train_mean_list = []\n",
    "\n",
    "        for i in range(5):\n",
    "            model = DecisionTreeClassifier(criterion='entropy', max_depth=depth)\n",
    "            model.fit(X_train, y_train)\n",
    "\n",
    "            y_pred = model.predict(X_test)\n",
    "            acc_test = accuracy_score(y_test, y_pred)\n",
    "\n",
    "            y_pred_train = model.predict(X_train)\n",
    "            acc_train = accuracy_score(y_train, y_pred_train)\n",
    "\n",
    "            acc_test_mean_list += [acc_test * 100]\n",
    "            acc_train_mean_list += [acc_train * 100]\n",
    "\n",
    "        acc_test_list += [np.mean(acc_test_mean_list)]\n",
    "        acc_train_list += [np.mean(acc_train_mean_list)]\n",
    "\n",
    "    plt.plot(depth_range, acc_test_list, label=f'Teste | w_h: {width} x {height}')\n",
    "    #plt.plot(depth_range, acc_train_list, label=f'Treino | w_h: {width} x {height}')\n",
    "\n",
    "plt.xlabel('Profundidade Máxima')\n",
    "plt.ylabel('Precisão (%)')\n",
    "plt.legend()"
   ]
  },
  {
   "cell_type": "code",
   "execution_count": null,
   "metadata": {},
   "outputs": [],
   "source": [
    "from sklearn.ensemble import RandomForestClassifier"
   ]
  },
  {
   "cell_type": "code",
   "execution_count": null,
   "metadata": {},
   "outputs": [],
   "source": [
    "rfc = RandomForestClassifier(n_estimators=100)\n",
    "rfc.fit(X_train, y_train)\n",
    "\n",
    "y_pred_test = rfc.predict(X_test)\n",
    "acc_test = accuracy_score(y_test, y_pred_test)\n",
    "\n",
    "y_pred_train = rfc.predict(X_train)\n",
    "acc_train = accuracy_score(y_train, y_pred_train)\n",
    "\n",
    "print(f'Model Accuracy (Train): {round(acc_train * 100, 2)}% | Model Accuracy (Test): {round(acc_test * 100, 2)}%')"
   ]
  },
  {
   "cell_type": "code",
   "execution_count": null,
   "metadata": {},
   "outputs": [],
   "source": [
    "plot_confusion_matrix(rfc, X_test, y_test, display_labels=['Non-Fault', 'Fault'])"
   ]
  },
  {
   "cell_type": "markdown",
   "metadata": {},
   "source": [
    "VARREDURA"
   ]
  },
  {
   "cell_type": "code",
   "execution_count": null,
   "metadata": {},
   "outputs": [],
   "source": [
    "iline_number = 300\n",
    "width, height = 15, 15\n",
    "\n",
    "iline_amplitude_array = amplitude_cube.iline[iline_number].T\n",
    "#iline_similarity_array = similarity_cube.isel(iline=iline_number).data.T.to_numpy()\n",
    "\n",
    "mask_array = np.zeros(iline_amplitude_array.shape) * np.nan\n",
    "\n",
    "for i, row in enumerate(iline_amplitude_array):\n",
    "        \n",
    "    if i > 0 and X_to_predict.shape != (1, width * height):\n",
    "        pass\n",
    "        \n",
    "    for j, col in enumerate(row):\n",
    "            \n",
    "        window_amplitude_array = iline_amplitude_array[i : i + height, j : j + width]\n",
    "        window_amplitude_array = norm_data(window_amplitude_array, np.min(window_amplitude_array), np.max(window_amplitude_array))\n",
    "\n",
    "        #window_similarity_array = iline_amplitude_array[i : i + height, j : j + width]\n",
    "        #window_similarity_array = norm_data(window_similarity_array, np.min(window_similarity_array), np.max(window_similarity_array))\n",
    "\n",
    "        window_center_coord = (i + int(height / 2), j + int(height / 2))\n",
    "        \n",
    "        amplitude_pixels = window_amplitude_array.reshape(1,-1)\n",
    "        #similarity_pixels = window_similarity_array.reshape(1,-1)\n",
    "        \n",
    "        X_to_predict = amplitude_pixels\n",
    "        \n",
    "        if X_to_predict.shape != (1, width * height):\n",
    "            pass\n",
    "        else:\n",
    "            predicted_value = knn.predict(X_to_predict)[0]\n",
    "\n",
    "            mask_array[i][j] = predicted_value"
   ]
  },
  {
   "cell_type": "code",
   "execution_count": null,
   "metadata": {},
   "outputs": [],
   "source": [
    "plt.figure(figsize=(17,10))\n",
    "plt.imshow(mask_array, cmap='gray_r')"
   ]
  },
  {
   "cell_type": "code",
   "execution_count": null,
   "metadata": {},
   "outputs": [],
   "source": [
    "np.linspace(0,100,2000)"
   ]
  },
  {
   "cell_type": "code",
   "execution_count": null,
   "metadata": {},
   "outputs": [],
   "source": [
    "a = {'w1':[1,2,3]}\n",
    "b = {'w1':[4,5,6]}\n",
    "c = {'w1':[7,8,9]}\n",
    "pd.concat([pd.DataFrame(a), pd.DataFrame(b), pd.DataFrame(c)], axis=1)"
   ]
  },
  {
   "cell_type": "code",
   "execution_count": null,
   "metadata": {},
   "outputs": [],
   "source": []
  }
 ],
 "metadata": {
  "interpreter": {
   "hash": "ac59ebe37160ed0dfa835113d9b8498d9f09ceb179beaac4002f036b9467c963"
  },
  "kernelspec": {
   "display_name": "Python 3 (ipykernel)",
   "language": "python",
   "name": "python3"
  },
  "language_info": {
   "codemirror_mode": {
    "name": "ipython",
    "version": 3
   },
   "file_extension": ".py",
   "mimetype": "text/x-python",
   "name": "python",
   "nbconvert_exporter": "python",
   "pygments_lexer": "ipython3",
   "version": "3.9.7"
  }
 },
 "nbformat": 4,
 "nbformat_minor": 2
}
