{
 "cells": [
  {
   "cell_type": "code",
   "execution_count": null,
   "metadata": {},
   "outputs": [],
   "source": [
    "from segysak.segy import segy_loader\n",
    "import matplotlib.pyplot as plt\n",
    "import pandas as pd\n",
    "import numpy as np\n",
    "import cv2 as cv\n",
    "import warnings\n",
    "import segyio\n",
    "import os\n",
    "warnings.filterwarnings(action='ignore')"
   ]
  },
  {
   "cell_type": "code",
   "execution_count": null,
   "metadata": {},
   "outputs": [],
   "source": [
    "def get_df_from_dat(path):\n",
    "    fault_list = [fault for fault in os.listdir(path) if fault.endswith('.dat')]\n",
    "\n",
    "    df = pd.DataFrame()\n",
    "\n",
    "    for fault in fault_list:\n",
    "        df_to_concat = pd.read_csv(f'{path}\\{fault}', delim_whitespace=True, header=None)\n",
    "        df_to_concat.columns = ['Name', 'Inline', 'Xline', 'Time', 'idk', 'n']\n",
    "\n",
    "        i_or_x = 'iline' if fault.split('_')[1] == 'Inline' else 'xline'\n",
    "\n",
    "        df_to_concat['Line'] = [i_or_x for _ in range(len(df_to_concat))]\n",
    "\n",
    "        df = pd.concat([df, df_to_concat])\n",
    "\n",
    "    df['Time'] /= 4\n",
    "    df['Time'] = round(df['Time'])\n",
    "\n",
    "    id = []\n",
    "    count = -1\n",
    "    for i in range(len(df)):\n",
    "        if df['n'].iloc[i] == 0:\n",
    "            count += 1\n",
    "        id += [count]\n",
    "    df['ID'] = id\n",
    "\n",
    "    df.drop(['Name', 'idk', 'n'], axis=1, inplace=True)\n",
    "\n",
    "    df = df[df.columns[::-1]]\n",
    "\n",
    "    df.set_index('ID', inplace=True)\n",
    "\n",
    "    return df\n",
    "\n",
    "def norm_data(X, x_min, x_max):\n",
    "    return (X - x_min) / (x_max - x_min)\n",
    "\n",
    "def get_mask_from_dat(file_path):\n",
    "    df = pd.read_csv(file_path, delim_whitespace=True)"
   ]
  },
  {
   "cell_type": "code",
   "execution_count": null,
   "metadata": {},
   "outputs": [],
   "source": [
    "faults_path = r'C:\\Users\\jpgom\\Documents\\Jão\\git\\facies_classification\\Faults.dat'\n",
    "cube_path = r'C:\\Users\\jpgom\\Documents\\Jão\\UFBA\\IC\\Code\\Seismic_data_w_null.sgy'\n",
    "\n",
    "df = pd.read_csv(faults_path, delim_whitespace=True)\n",
    "\n",
    "#df"
   ]
  },
  {
   "cell_type": "code",
   "execution_count": null,
   "metadata": {},
   "outputs": [],
   "source": [
    "#cube = segy_loader(cube_path)\n",
    "cube = segyio.open(cube_path)"
   ]
  },
  {
   "cell_type": "code",
   "execution_count": null,
   "metadata": {},
   "outputs": [],
   "source": [
    "# iline_list = cube.iline.data\n",
    "# xline_list = cube.xline.data\n",
    "# twt_list = cube.twt.data\n",
    "# iline0 = iline_list[0]\n",
    "# xline0 = xline_list[0]\n",
    "# twt0 = twt_list[0]\n",
    "\n",
    "# print(f'Initial Values:\\n   Inline: {iline0} | Crossline: {xline0} | Time: {twt0}')\n",
    "\n",
    "# rows = len(df['Inline'][df['Line'] == 'Inline'].unique()) + len(df['Xline'][df['Line'] == 'Xline'].unique())\n",
    "# cols = 1\n",
    "\n",
    "# fig, ax = plt.subplots(rows, cols, figsize=(15 * cols, 7 * rows))\n",
    "# count = 0\n",
    "# for line_str in df['Line'].unique():\n",
    "#     for line_number in df[line_str][df['Line'] == line_str].unique():\n",
    "#         img = np.array(cube.sel(iline=line_number).data.T) if line_str == 'Inline' else np.array(cube.sel(xline=line_number).data.T)\n",
    "#         mask = np.zeros_like(img) * np.nan\n",
    "\n",
    "#         X = df['Xline'][df[line_str] == line_number][df['Line'] == line_str] - xline0 if line_str == 'Inline' else df['Inline'][df[line_str] == line_number][df['Line'] == line_str] - iline0\n",
    "#         Y = df['Time'][df[line_str] == line_number][df['Line'] == line_str] - twt0\n",
    "\n",
    "#         ax[count].imshow(img)\n",
    "#         ax[count].scatter(X, Y)\n",
    "#         ax[count].set_title(f'{line_str}: {line_number}')\n",
    "#         if line_str == 'Inline':\n",
    "#             for i in range(len())\n",
    "#             cv.line(mask, (0, 0), (3, 3), (100, 0, 0))\n",
    "#             ax[count].imshow(mask)\n",
    "#             ax[count].set_xlabel('Xline')\n",
    "#         else:\n",
    "#             ax[count].set_xlabel('Inline')\n",
    "#         ax[count].set_ylabel('Time')\n",
    "#         count += 1"
   ]
  },
  {
   "cell_type": "code",
   "execution_count": null,
   "metadata": {},
   "outputs": [],
   "source": [
    "# iline_list = cube.ilines\n",
    "# xline_list = cube.xlines\n",
    "# iline0 = iline_list[0]\n",
    "# xline0 = xline_list[0]\n",
    "\n",
    "# print(f'Initial Values:\\n   Inline: {iline0} | Crossline: {xline0}')\n",
    "\n",
    "# rows = len(df['Inline'][df['Line'] == 'Inline'].unique()) + len(df['Xline'][df['Line'] == 'Xline'].unique())\n",
    "# cols = 1\n",
    "\n",
    "# fig, ax = plt.subplots(rows, cols, figsize=(15 * cols, 7 * rows))\n",
    "# count = 0\n",
    "# for line_str in df['Line'].unique():\n",
    "#     for line_number in df[line_str][df['Line'] == line_str].unique():\n",
    "#         img = cube.iline[line_number].T if line_str == 'Inline' else cube.xline[line_number].T\n",
    "#         mask = np.zeros(img.shape) * np.nan\n",
    "\n",
    "#         X = df['Xline'][df[line_str] == line_number][df['Line'] == line_str] - xline0 if line_str == 'Inline' else df['Inline'][df[line_str] == line_number][df['Line'] == line_str] - iline0\n",
    "#         Y = df['Time'][df[line_str] == line_number][df['Line'] == line_str]\n",
    "\n",
    "#         ax[count].imshow(img)\n",
    "#         #ax[count].scatter(X, Y)\n",
    "#         ax[count].set_title(f'{line_str}: {line_number}')\n",
    "#         if line_str == 'Inline':\n",
    "#             for id in df['ID'][df['Line'] == line_str][df['Inline'] == line_number].unique():\n",
    "#                 [cv.line(mask, (int(df['Xline'][df['ID'] == id].iloc[i-1] - xline0), int(df['Time'][df['ID'] == id].iloc[i-1])), (int(df['Xline'][df['ID'] == id].iloc[i] - xline0), int(df['Time'][df['ID'] == id].iloc[i])), (1,0,0), 3) for i in range(1, len(df['ID'][df['ID'] == id]))]\n",
    "#             ax[count].set_xlabel('Xline')\n",
    "#         else:\n",
    "#             for id in df['ID'][df['Line'] == line_str][df['Xline'] == line_number].unique():\n",
    "#                 [cv.line(mask, (int(df['Inline'][df['ID'] == id].iloc[i-1] - xline0), int(df['Time'][df['ID'] == id].iloc[i-1])), (int(df['Inline'][df['ID'] == id].iloc[i] - xline0), int(df['Time'][df['ID'] == id].iloc[i])), (1,0,0), 3) for i in range(1, len(df['ID'][df['ID'] == id]))]\n",
    "#             ax[count].set_xlabel('Inline')\n",
    "#         ax[count].imshow(mask)\n",
    "#         ax[count].set_ylabel('Time')\n",
    "#         count += 1"
   ]
  },
  {
   "cell_type": "code",
   "execution_count": null,
   "metadata": {},
   "outputs": [],
   "source": [
    "iline_list = cube.ilines\n",
    "xline_list = cube.xlines\n",
    "iline0 = iline_list[0]\n",
    "xline0 = xline_list[0]\n",
    "\n",
    "width = 20\n",
    "height = 20\n",
    "\n",
    "X = {}\n",
    "y = {}\n",
    "\n",
    "count = 0\n",
    "for line_str in df['Line'].unique():\n",
    "    for line_number in df[line_str][df['Line'] == line_str].unique():\n",
    "        img = cube.iline[line_number].T if line_str == 'Inline' else cube.xline[line_number].T\n",
    "        mask = np.zeros(img.shape) * np.nan\n",
    "\n",
    "        if line_str == 'Inline':\n",
    "            for id in df['ID'][df['Line'] == line_str][df['Inline'] == line_number].unique():\n",
    "                [cv.line(mask, (int(df['Xline'][df['ID'] == id].iloc[i-1] - xline0), int(df['Time'][df['ID'] == id].iloc[i-1])), (int(df['Xline'][df['ID'] == id].iloc[i] - xline0), int(df['Time'][df['ID'] == id].iloc[i])), (1,0,0), 3) for i in range(1, len(df['ID'][df['ID'] == id]))]\n",
    "        else:\n",
    "            for id in df['ID'][df['Line'] == line_str][df['Xline'] == line_number].unique():\n",
    "                [cv.line(mask, (int(df['Inline'][df['ID'] == id].iloc[i-1] - xline0), int(df['Time'][df['ID'] == id].iloc[i-1])), (int(df['Inline'][df['ID'] == id].iloc[i] - xline0), int(df['Time'][df['ID'] == id].iloc[i])), (1,0,0), 3) for i in range(1, len(df['ID'][df['ID'] == id]))]\n",
    "\n",
    "        for i in range(img.shape[0] - (height - 1)):\n",
    "            for j in range(img.shape[1] - (width - 1)):\n",
    "                    \n",
    "                window_amplitude = img[i : i + height, j : j + width]\n",
    "                window_amplitude = norm_data(window_amplitude, np.min(window_amplitude), np.max(window_amplitude))\n",
    "                \n",
    "                window_mask = mask[i : i + height, j : j + width]\n",
    "\n",
    "                X.update({f'W_{count}' : window_amplitude.reshape(1,-1)[0]})\n",
    "                y.update({f'W_{count}' : window_mask.reshape(1,-1)[0]})\n",
    "\n",
    "                count += 1\n",
    "        "
   ]
  },
  {
   "cell_type": "code",
   "execution_count": null,
   "metadata": {},
   "outputs": [],
   "source": [
    "dataset = pd.concat([pd.DataFrame(X).T, pd.DataFrame(y).T], axis=1)"
   ]
  },
  {
   "cell_type": "code",
   "execution_count": null,
   "metadata": {},
   "outputs": [],
   "source": [
    "dataset"
   ]
  },
  {
   "cell_type": "code",
   "execution_count": null,
   "metadata": {},
   "outputs": [],
   "source": []
  },
  {
   "cell_type": "code",
   "execution_count": null,
   "metadata": {},
   "outputs": [],
   "source": []
  }
 ],
 "metadata": {
  "interpreter": {
   "hash": "ac59ebe37160ed0dfa835113d9b8498d9f09ceb179beaac4002f036b9467c963"
  },
  "kernelspec": {
   "display_name": "Python 3 (ipykernel)",
   "language": "python",
   "name": "python3"
  },
  "language_info": {
   "codemirror_mode": {
    "name": "ipython",
    "version": 3
   },
   "file_extension": ".py",
   "mimetype": "text/x-python",
   "name": "python",
   "nbconvert_exporter": "python",
   "pygments_lexer": "ipython3",
   "version": "3.9.12"
  }
 },
 "nbformat": 4,
 "nbformat_minor": 2
}
